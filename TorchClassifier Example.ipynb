{
 "cells": [
  {
   "cell_type": "markdown",
   "id": "tamil-number",
   "metadata": {},
   "source": [
    "# Readme"
   ]
  },
  {
   "cell_type": "markdown",
   "id": "wicked-robertson",
   "metadata": {},
   "source": [
    "TorchClassifier 封装了 PyTorch 训练模型函数，能通过 class 重写进行高自由度的复用。"
   ]
  },
  {
   "cell_type": "markdown",
   "id": "proved-booking",
   "metadata": {},
   "source": [
    "# load package"
   ]
  },
  {
   "cell_type": "code",
   "execution_count": 1,
   "id": "metropolitan-origin",
   "metadata": {},
   "outputs": [],
   "source": [
    "import torch\n",
    "from torchSimple.models import TorchClassifier"
   ]
  },
  {
   "cell_type": "markdown",
   "id": "naval-giant",
   "metadata": {},
   "source": [
    "# load dataset"
   ]
  },
  {
   "cell_type": "markdown",
   "id": "generic-pocket",
   "metadata": {},
   "source": [
    "使用的数据集为“长江流域水质等级数据”"
   ]
  },
  {
   "cell_type": "code",
   "execution_count": 2,
   "id": "disturbed-scenario",
   "metadata": {},
   "outputs": [],
   "source": [
    "import numpy as np\n",
    "import pandas as pd\n",
    "import os\n",
    "\n",
    "X = np.loadtxt('/media/titan2/ed68ee25-5900-4420-b4c5-b77ca64f29e2/WZD/WR/lookback28_feture4_X.csv')\n",
    "y = np.loadtxt('/media/titan2/ed68ee25-5900-4420-b4c5-b77ca64f29e2/WZD/WR/lookback28_feture4_y.csv')\n",
    "\n",
    "from sklearn.model_selection import train_test_split\n",
    "\n",
    "x_train, x_test, y_train, y_test = train_test_split(X, y, test_size=0.2, random_state=0, stratify=y)\n",
    "\n",
    "# change the shape to import the resnet18 model.\n",
    "x_train = torch.tensor(x_train).view(-1, 1, 7, 28)\n",
    "x_test = torch.tensor(x_test).view(-1, 1, 7, 28)\n",
    "y_train = torch.tensor(y_train)\n",
    "y_test = torch.tensor(y_test)"
   ]
  },
  {
   "cell_type": "markdown",
   "id": "healthy-mauritius",
   "metadata": {},
   "source": [
    "# Rewrite the \"TorchClassifier\" class"
   ]
  },
  {
   "cell_type": "markdown",
   "id": "associate-necklace",
   "metadata": {},
   "source": [
    "这里修改的有四个函数，以及batch size，save folder，若需要更多可前往源码复制粘贴修改."
   ]
  },
  {
   "cell_type": "code",
   "execution_count": 3,
   "id": "positive-consciousness",
   "metadata": {
    "code_folding": []
   },
   "outputs": [],
   "source": [
    "class ResNet18Classifier(TorchClassifier):\n",
    "    def __init__(self):\n",
    "        self.batch_size = 2048\n",
    "        \n",
    "        # 可修改保存路径\n",
    "        self.save_folder = './resnet18_model_weights'\n",
    "        if not os.path.exists(self.save_folder):\n",
    "            os.makedirs(self.save_folder)\n",
    "    \n",
    "    def set_load_weights(self, path='model_weights_0.746.pt'):\n",
    "        # 设置要加载的模型权重，如果没有, 则会自动跳过，无需设置为None.\n",
    "        return os.path.join(self.save_folder, path)\n",
    "    \n",
    "    def set_criterion(self):\n",
    "        return torch.nn.CrossEntropyLoss()\n",
    "    \n",
    "    def set_optimizer(self, model):\n",
    "        return torch.optim.SGD(model.parameters(), lr=0.01, momentum=0.9, weight_decay=1e-8)\n",
    "    \n",
    "    def set_scheduler(self, optimizer):\n",
    "        return torch.optim.lr_scheduler.StepLR(optimizer, step_size=1)"
   ]
  },
  {
   "cell_type": "markdown",
   "id": "empirical-benjamin",
   "metadata": {},
   "source": [
    "# use the resnet18 model"
   ]
  },
  {
   "cell_type": "markdown",
   "id": "victorian-candle",
   "metadata": {},
   "source": [
    "使用 torchvision 自带的 resnet18 模型，调整输入输出层的参数. "
   ]
  },
  {
   "cell_type": "code",
   "execution_count": 4,
   "id": "shared-upper",
   "metadata": {},
   "outputs": [],
   "source": [
    "from torchvision import models\n",
    "import torch.nn as nn\n",
    "\n",
    "model = models.resnet18()\n",
    "model.conv1 = nn.Conv2d(1, 64, kernel_size=(7, 7), stride=(2, 2), padding=(3, 3), bias=False)\n",
    "model.fc = nn.Linear(in_features=512, out_features=6, bias=True)"
   ]
  },
  {
   "cell_type": "markdown",
   "id": "grand-contact",
   "metadata": {},
   "source": [
    "使用 fit 训练模型，需要传 6 个参数."
   ]
  },
  {
   "cell_type": "code",
   "execution_count": null,
   "id": "neither-adrian",
   "metadata": {
    "scrolled": true
   },
   "outputs": [
    {
     "name": "stdout",
     "output_type": "stream",
     "text": [
      "Let's use 2 GPUs!\n",
      "--------------------\n",
      "EPOCH:1/5\n"
     ]
    },
    {
     "data": {
      "application/vnd.jupyter.widget-view+json": {
       "model_id": "f27730f4a64943148087b509dba09dfd",
       "version_major": 2,
       "version_minor": 0
      },
      "text/plain": [
       "  0%|          | 0/87 [00:00<?, ?it/s]"
      ]
     },
     "metadata": {},
     "output_type": "display_data"
    },
    {
     "data": {
      "application/vnd.jupyter.widget-view+json": {
       "model_id": "200bcc6997f740ffbcb5d92aef96b0b9",
       "version_major": 2,
       "version_minor": 0
      },
      "text/plain": [
       "  0%|          | 0/22 [00:00<?, ?it/s]"
      ]
     },
     "metadata": {},
     "output_type": "display_data"
    },
    {
     "name": "stdout",
     "output_type": "stream",
     "text": [
      "Traning losses:0.000262478890363127; Accuary:0.822, Precision:0.652, Recall:0.592, F1:0.612\n",
      "Testing losses:0.0002356240584049374; Accuary:0.849, Precision:0.75, Recall:0.66, F1:0.683\n",
      "Now best f1 score is: 0.683, save the weights parameters\n",
      "--------------------\n",
      "EPOCH:2/5\n"
     ]
    },
    {
     "data": {
      "application/vnd.jupyter.widget-view+json": {
       "model_id": "e62b938622484a079bdbaa8075ccb415",
       "version_major": 2,
       "version_minor": 0
      },
      "text/plain": [
       "  0%|          | 0/87 [00:00<?, ?it/s]"
      ]
     },
     "metadata": {},
     "output_type": "display_data"
    },
    {
     "data": {
      "application/vnd.jupyter.widget-view+json": {
       "model_id": "61d07d433b9c4db99a7a6a5f3b8517e0",
       "version_major": 2,
       "version_minor": 0
      },
      "text/plain": [
       "  0%|          | 0/22 [00:00<?, ?it/s]"
      ]
     },
     "metadata": {},
     "output_type": "display_data"
    },
    {
     "name": "stdout",
     "output_type": "stream",
     "text": [
      "Traning losses:0.00018538125732447952; Accuary:0.871, Precision:0.777, Recall:0.695, F1:0.728\n",
      "Testing losses:0.00018729687144514173; Accuary:0.871, Precision:0.783, Recall:0.704, F1:0.735\n",
      "Now best f1 score is: 0.735, save the weights parameters\n",
      "--------------------\n",
      "EPOCH:3/5\n"
     ]
    },
    {
     "data": {
      "application/vnd.jupyter.widget-view+json": {
       "model_id": "ac2c51d3c9e4474aa847f9f3564ebe54",
       "version_major": 2,
       "version_minor": 0
      },
      "text/plain": [
       "  0%|          | 0/87 [00:00<?, ?it/s]"
      ]
     },
     "metadata": {},
     "output_type": "display_data"
    }
   ],
   "source": [
    "resn_clf = ResNet18Classifier()\n",
    "resn_clf.fit(x_train, y_train, x_test, y_test, model, epochs=5)"
   ]
  },
  {
   "cell_type": "markdown",
   "id": "global-serve",
   "metadata": {},
   "source": [
    "使用 predict 预测结果，需调用 fit 产生的模型参数（保存在 \"resnet18_model_weights\"文件夹 里，通过“ls -l -R ./resnet18_model_weights/”查看）"
   ]
  },
  {
   "cell_type": "code",
   "execution_count": null,
   "id": "successful-electric",
   "metadata": {},
   "outputs": [],
   "source": [
    "! ls -l -R ./resnet18_model_weights/"
   ]
  },
  {
   "cell_type": "markdown",
   "id": "trying-destruction",
   "metadata": {},
   "source": [
    "可以看到 fit 时候产生了上述多个文件，格式均为 model_weights_0.xxx.pt，其中0.xxx 为 f1 值，选择最高分数即可."
   ]
  },
  {
   "cell_type": "code",
   "execution_count": null,
   "id": "general-action",
   "metadata": {},
   "outputs": [],
   "source": [
    "prediction = resn_clf.predict(x_test, model, load_weights='./Weights/model_weights_0.737.pt')"
   ]
  },
  {
   "cell_type": "markdown",
   "id": "single-retail",
   "metadata": {},
   "source": [
    "调用 class 自带的评估指标 estimate"
   ]
  },
  {
   "cell_type": "code",
   "execution_count": null,
   "id": "union-teacher",
   "metadata": {},
   "outputs": [],
   "source": [
    "acc, precision, recall, f1 = resn_clf.estimate(y_test=y_test.numpy(), y_pred=prediction)\n",
    "print('acc:{}, precision:{}, recall:{}, f1:{}'.format(acc, precision, recall, f1))"
   ]
  },
  {
   "cell_type": "markdown",
   "id": "voluntary-sarah",
   "metadata": {},
   "source": [
    "# 调用 utils 绘制混淆矩阵"
   ]
  },
  {
   "cell_type": "code",
   "execution_count": null,
   "id": "empirical-receipt",
   "metadata": {},
   "outputs": [],
   "source": [
    "import matplotlib.pyplot as plt\n",
    "%matplotlib inline\n",
    "\n",
    "from utils import plot_confusion_matrix\n",
    "from sklearn.metrics import confusion_matrix\n",
    "\n",
    "# Compute confusion matrix\n",
    "cnf_matrix = confusion_matrix(y_test.numpy(),\n",
    "                              prediction)\n",
    "np.set_printoptions(precision=2)\n",
    "\n",
    "# Plot non-normalized confusion matrix\n",
    "plt.figure(figsize=(10, 10))\n",
    "plot_confusion_matrix(cnf_matrix, classes=['Ⅰ', 'Ⅱ', 'Ⅲ', 'Ⅳ', 'Ⅴ', 'Ⅴ-'],normalize=True,)\n",
    "                      title='./resnet18_model_confusion_matrix.png')\n",
    "plt.show()"
   ]
  },
  {
   "cell_type": "markdown",
   "id": "adequate-midwest",
   "metadata": {},
   "source": [
    "# 可考虑是否需要保存整个模型\n",
    "\n",
    "目的是保存自己写的模型，这样后续可直接 load 整个模型及其最优 参数."
   ]
  },
  {
   "cell_type": "code",
   "execution_count": null,
   "id": "trying-virus",
   "metadata": {},
   "outputs": [],
   "source": [
    "# Specify a path\n",
    "PATH = \"./resnet18_model_weights/entire_resnet18_model.pt\"\n",
    "# Save\n",
    "torch.save(model, PATH)"
   ]
  },
  {
   "cell_type": "code",
   "execution_count": null,
   "id": "extended-cement",
   "metadata": {},
   "outputs": [],
   "source": [
    "# Load\n",
    "model = torch.load(PATH)"
   ]
  },
  {
   "cell_type": "markdown",
   "id": "generous-wiring",
   "metadata": {},
   "source": [
    "查看模型是否加载成功"
   ]
  },
  {
   "cell_type": "code",
   "execution_count": null,
   "id": "southeast-impact",
   "metadata": {
    "scrolled": true
   },
   "outputs": [],
   "source": [
    "model"
   ]
  },
  {
   "cell_type": "code",
   "execution_count": null,
   "id": "protected-concept",
   "metadata": {},
   "outputs": [],
   "source": []
  }
 ],
 "metadata": {
  "kernelspec": {
   "display_name": "Python 3",
   "language": "python",
   "name": "python3"
  },
  "language_info": {
   "codemirror_mode": {
    "name": "ipython",
    "version": 3
   },
   "file_extension": ".py",
   "mimetype": "text/x-python",
   "name": "python",
   "nbconvert_exporter": "python",
   "pygments_lexer": "ipython3",
   "version": "3.7.9"
  },
  "toc": {
   "base_numbering": 1,
   "nav_menu": {},
   "number_sections": true,
   "sideBar": true,
   "skip_h1_title": false,
   "title_cell": "Table of Contents",
   "title_sidebar": "Contents",
   "toc_cell": false,
   "toc_position": {
    "height": "calc(100% - 180px)",
    "left": "10px",
    "top": "150px",
    "width": "336px"
   },
   "toc_section_display": true,
   "toc_window_display": true
  }
 },
 "nbformat": 4,
 "nbformat_minor": 5
}
