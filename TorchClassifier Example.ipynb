{
 "cells": [
  {
   "cell_type": "markdown",
   "id": "limiting-winner",
   "metadata": {},
   "source": [
    "# load package"
   ]
  },
  {
   "cell_type": "code",
   "execution_count": 1,
   "id": "secure-browse",
   "metadata": {},
   "outputs": [],
   "source": [
    "import torch\n",
    "from torchSimple.models import TorchClassifier"
   ]
  },
  {
   "cell_type": "markdown",
   "id": "opposed-newark",
   "metadata": {},
   "source": [
    "# load dataset"
   ]
  },
  {
   "cell_type": "markdown",
   "id": "statewide-disposition",
   "metadata": {},
   "source": [
    "使用的数据集为“长江流域水质等级数据”"
   ]
  },
  {
   "cell_type": "code",
   "execution_count": 2,
   "id": "smoking-prairie",
   "metadata": {},
   "outputs": [],
   "source": [
    "import numpy as np\n",
    "import pandas as pd\n",
    "import os\n",
    "\n",
    "X = np.loadtxt('/media/titan2/ed68ee25-5900-4420-b4c5-b77ca64f29e2/WZD/WR/lookback28_feture4_X.csv')\n",
    "y = np.loadtxt('/media/titan2/ed68ee25-5900-4420-b4c5-b77ca64f29e2/WZD/WR/lookback28_feture4_y.csv')\n",
    "\n",
    "from sklearn.model_selection import train_test_split\n",
    "\n",
    "x_train, x_test, y_train, y_test = train_test_split(X, y, test_size=0.2, random_state=0, stratify=y)\n",
    "\n",
    "# change the shape to import the resnet18 model.\n",
    "x_train = torch.tensor(x_train).view(-1, 1, 7, 28)\n",
    "x_test = torch.tensor(x_test).view(-1, 1, 7, 28)\n",
    "y_train = torch.tensor(y_train)\n",
    "y_test = torch.tensor(y_test)"
   ]
  },
  {
   "cell_type": "code",
   "execution_count": 3,
   "id": "jewish-microwave",
   "metadata": {},
   "outputs": [
    {
     "data": {
      "text/plain": [
       "(torch.Size([177128, 1, 7, 28]), torch.Size([44282, 1, 7, 28]))"
      ]
     },
     "execution_count": 3,
     "metadata": {},
     "output_type": "execute_result"
    }
   ],
   "source": [
    "x_train.size(), x_test.size()"
   ]
  },
  {
   "cell_type": "markdown",
   "id": "lovely-plane",
   "metadata": {},
   "source": [
    "# Rewrite the \"TorchClassifier\" class"
   ]
  },
  {
   "cell_type": "markdown",
   "id": "novel-value",
   "metadata": {},
   "source": [
    "这里修改的有四个函数，以及batch size，save folder，若需要更多可前往源码复制粘贴修改."
   ]
  },
  {
   "cell_type": "code",
   "execution_count": 4,
   "id": "attached-haven",
   "metadata": {
    "code_folding": []
   },
   "outputs": [],
   "source": [
    "class ResNet18Classifier(TorchClassifier):\n",
    "    def __init__(self):\n",
    "        self.batch_size = 2048\n",
    "        \n",
    "        # 可修改保存路径\n",
    "        self.save_folder = './resnet18_model_weights'\n",
    "        if not os.path.exists(self.save_folder):\n",
    "            os.makedirs(self.save_folder)\n",
    "    \n",
    "    def set_load_weights(self, path='model_weights_0.746.pt'):\n",
    "        # 设置要加载的模型权重，如果没有, 则会自动跳过，无需设置为None.\n",
    "        return os.path.join(self.save_folder, path)\n",
    "    \n",
    "    def set_criterion(self):\n",
    "        return torch.nn.CrossEntropyLoss()\n",
    "    \n",
    "    def set_optimizer(self, model):\n",
    "        return torch.optim.SGD(model.parameters(), lr=0.01, momentum=0.9, weight_decay=1e-8)\n",
    "    \n",
    "    def set_scheduler(self, optimizer):\n",
    "        return torch.optim.lr_scheduler.StepLR(optimizer, step_size=1)"
   ]
  },
  {
   "cell_type": "markdown",
   "id": "sticky-sessions",
   "metadata": {},
   "source": [
    "# use the resnet18 model"
   ]
  },
  {
   "cell_type": "markdown",
   "id": "dependent-adams",
   "metadata": {},
   "source": [
    "使用 torchvision 自带的 resnet18 模型，调整输入输出层的参数. "
   ]
  },
  {
   "cell_type": "code",
   "execution_count": 5,
   "id": "initial-sequence",
   "metadata": {},
   "outputs": [],
   "source": [
    "from torchvision import models\n",
    "import torch.nn as nn\n",
    "\n",
    "model = models.resnet18()\n",
    "model.conv1 = nn.Conv2d(1, 64, kernel_size=(7, 7), stride=(2, 2), padding=(3, 3), bias=False)\n",
    "model.fc = nn.Linear(in_features=512, out_features=6, bias=True)"
   ]
  },
  {
   "cell_type": "markdown",
   "id": "seven-parks",
   "metadata": {},
   "source": [
    "使用 fit 训练模型，需要传 6 个参数."
   ]
  },
  {
   "cell_type": "code",
   "execution_count": 6,
   "id": "banner-republic",
   "metadata": {
    "scrolled": true
   },
   "outputs": [
    {
     "name": "stdout",
     "output_type": "stream",
     "text": [
      "Let's use 2 GPUs!\n",
      "--------------------\n",
      "EPOCH:1/5\n"
     ]
    },
    {
     "data": {
      "application/vnd.jupyter.widget-view+json": {
       "model_id": "b1899470dc1545899afc8e2c889b2b39",
       "version_major": 2,
       "version_minor": 0
      },
      "text/plain": [
       "  0%|          | 0/87 [00:00<?, ?it/s]"
      ]
     },
     "metadata": {},
     "output_type": "display_data"
    },
    {
     "data": {
      "application/vnd.jupyter.widget-view+json": {
       "model_id": "4bc444bcc43b4678ad30c3acb553d9e2",
       "version_major": 2,
       "version_minor": 0
      },
      "text/plain": [
       "  0%|          | 0/22 [00:00<?, ?it/s]"
      ]
     },
     "metadata": {},
     "output_type": "display_data"
    },
    {
     "name": "stdout",
     "output_type": "stream",
     "text": [
      "Traning losses:0.5206788778305054; Accuary:0.826, Precision:0.679, Recall:0.611, F1:0.638\n",
      "Testing losses:0.41185662150382996; Accuary:0.862, Precision:0.749, Recall:0.701, F1:0.721\n",
      "Now best f1 score is: 0.721, save the weights parameters\n",
      "--------------------\n",
      "EPOCH:2/5\n"
     ]
    },
    {
     "data": {
      "application/vnd.jupyter.widget-view+json": {
       "model_id": "8520fd1f2249424f9d5786dfd47ac4be",
       "version_major": 2,
       "version_minor": 0
      },
      "text/plain": [
       "  0%|          | 0/87 [00:00<?, ?it/s]"
      ]
     },
     "metadata": {},
     "output_type": "display_data"
    },
    {
     "data": {
      "application/vnd.jupyter.widget-view+json": {
       "model_id": "f4d83bb98ca542c6bf37e0c3efd6b7ec",
       "version_major": 2,
       "version_minor": 0
      },
      "text/plain": [
       "  0%|          | 0/22 [00:00<?, ?it/s]"
      ]
     },
     "metadata": {},
     "output_type": "display_data"
    },
    {
     "name": "stdout",
     "output_type": "stream",
     "text": [
      "Traning losses:0.3797527253627777; Accuary:0.87, Precision:0.78, Recall:0.698, F1:0.731\n",
      "Testing losses:0.3842516541481018; Accuary:0.869, Precision:0.779, Recall:0.701, F1:0.731\n",
      "Now best f1 score is: 0.731, save the weights parameters\n",
      "--------------------\n",
      "EPOCH:3/5\n"
     ]
    },
    {
     "data": {
      "application/vnd.jupyter.widget-view+json": {
       "model_id": "5ec17e04bede4c4292e19c1dceaf1e59",
       "version_major": 2,
       "version_minor": 0
      },
      "text/plain": [
       "  0%|          | 0/87 [00:00<?, ?it/s]"
      ]
     },
     "metadata": {},
     "output_type": "display_data"
    },
    {
     "data": {
      "application/vnd.jupyter.widget-view+json": {
       "model_id": "3c78dc525c0a4c95af2b9df8773d35ff",
       "version_major": 2,
       "version_minor": 0
      },
      "text/plain": [
       "  0%|          | 0/22 [00:00<?, ?it/s]"
      ]
     },
     "metadata": {},
     "output_type": "display_data"
    },
    {
     "name": "stdout",
     "output_type": "stream",
     "text": [
      "Traning losses:0.3706817030906677; Accuary:0.872, Precision:0.786, Recall:0.703, F1:0.736\n",
      "Testing losses:0.3774953782558441; Accuary:0.87, Precision:0.778, Recall:0.705, F1:0.736\n",
      "Now best f1 score is: 0.736, save the weights parameters\n",
      "--------------------\n",
      "EPOCH:4/5\n"
     ]
    },
    {
     "data": {
      "application/vnd.jupyter.widget-view+json": {
       "model_id": "53783b647ef64c889c3448e6a0942912",
       "version_major": 2,
       "version_minor": 0
      },
      "text/plain": [
       "  0%|          | 0/87 [00:00<?, ?it/s]"
      ]
     },
     "metadata": {},
     "output_type": "display_data"
    },
    {
     "data": {
      "application/vnd.jupyter.widget-view+json": {
       "model_id": "5801a1fdfedf4eb996340f1f4ed19060",
       "version_major": 2,
       "version_minor": 0
      },
      "text/plain": [
       "  0%|          | 0/22 [00:00<?, ?it/s]"
      ]
     },
     "metadata": {},
     "output_type": "display_data"
    },
    {
     "name": "stdout",
     "output_type": "stream",
     "text": [
      "Traning losses:0.3692777752876282; Accuary:0.873, Precision:0.788, Recall:0.705, F1:0.739\n",
      "Testing losses:0.37761133909225464; Accuary:0.87, Precision:0.782, Recall:0.699, F1:0.732\n",
      "--------------------\n",
      "EPOCH:5/5\n"
     ]
    },
    {
     "data": {
      "application/vnd.jupyter.widget-view+json": {
       "model_id": "5f0b4e72488444ec995aca544c30b24e",
       "version_major": 2,
       "version_minor": 0
      },
      "text/plain": [
       "  0%|          | 0/87 [00:00<?, ?it/s]"
      ]
     },
     "metadata": {},
     "output_type": "display_data"
    },
    {
     "data": {
      "application/vnd.jupyter.widget-view+json": {
       "model_id": "5fa15e161ff9443194f878ce68fd34ca",
       "version_major": 2,
       "version_minor": 0
      },
      "text/plain": [
       "  0%|          | 0/22 [00:00<?, ?it/s]"
      ]
     },
     "metadata": {},
     "output_type": "display_data"
    },
    {
     "name": "stdout",
     "output_type": "stream",
     "text": [
      "Traning losses:0.36953040957450867; Accuary:0.873, Precision:0.788, Recall:0.705, F1:0.738\n",
      "Testing losses:0.37760722637176514; Accuary:0.87, Precision:0.778, Recall:0.709, F1:0.738\n",
      "Now best f1 score is: 0.738, save the weights parameters\n",
      "Time consuming:73.63041400909424\n"
     ]
    }
   ],
   "source": [
    "resn_clf = ResNet18Classifier()\n",
    "resn_clf.fit(x_train, y_train, x_test, y_test, model, epochs=5)"
   ]
  },
  {
   "cell_type": "markdown",
   "id": "absent-cocktail",
   "metadata": {},
   "source": [
    "使用 predict 预测结果，需调用 fit 产生的模型参数（保存在 \"resnet18_model_weights\"文件夹 里，通过“ls -l -R ./resnet18_model_weights/”查看）"
   ]
  },
  {
   "cell_type": "code",
   "execution_count": 7,
   "id": "brazilian-examination",
   "metadata": {},
   "outputs": [
    {
     "name": "stdout",
     "output_type": "stream",
     "text": [
      "./resnet18_model_weights/:\r\n",
      "total 306104\r\n",
      "-rw-rw-r-- 1 titan2 titan2 44783225 2月  18 16:34 entire_resnet18_model.pt\r\n",
      "-rw-rw-r-- 1 titan2 titan2 44775929 2月  18 16:33 model_weights_0.683.pt\r\n",
      "-rw-rw-r-- 1 titan2 titan2 44775929 2月  18 16:36 model_weights_0.721.pt\r\n",
      "-rw-rw-r-- 1 titan2 titan2 44775929 2月  18 16:36 model_weights_0.731.pt\r\n",
      "-rw-rw-r-- 1 titan2 titan2 44775929 2月  18 16:35 model_weights_0.735.pt\r\n",
      "-rw-rw-r-- 1 titan2 titan2 44775929 2月  18 16:36 model_weights_0.736.pt\r\n",
      "-rw-rw-r-- 1 titan2 titan2 44775929 2月  18 16:36 model_weights_0.738.pt\r\n"
     ]
    }
   ],
   "source": [
    "! ls -l -R ./resnet18_model_weights/"
   ]
  },
  {
   "cell_type": "markdown",
   "id": "august-domestic",
   "metadata": {},
   "source": [
    "可以看到 fit 时候产生了上述多个文件，格式均为 model_weights_0.xxx.pt，其中0.xxx 为 f1 值，选择最高分数即可."
   ]
  },
  {
   "cell_type": "code",
   "execution_count": 8,
   "id": "temporal-proxy",
   "metadata": {},
   "outputs": [
    {
     "name": "stdout",
     "output_type": "stream",
     "text": [
      "Let's use 2 GPUs!\n"
     ]
    },
    {
     "data": {
      "application/vnd.jupyter.widget-view+json": {
       "model_id": "e7689a9dc09b49c9acc7e0198d1a77a1",
       "version_major": 2,
       "version_minor": 0
      },
      "text/plain": [
       "  0%|          | 0/22 [00:00<?, ?it/s]"
      ]
     },
     "metadata": {},
     "output_type": "display_data"
    }
   ],
   "source": [
    "prediction = resn_clf.predict(x_test, model, load_weights='./resnet18_model_weights/model_weights_0.738.pt')"
   ]
  },
  {
   "cell_type": "markdown",
   "id": "powered-translator",
   "metadata": {},
   "source": [
    "调用 class 自带的评估指标 estimate"
   ]
  },
  {
   "cell_type": "code",
   "execution_count": 9,
   "id": "embedded-attribute",
   "metadata": {},
   "outputs": [
    {
     "name": "stdout",
     "output_type": "stream",
     "text": [
      "acc:0.8702407298676663, precision:0.7779979232432871, recall:0.7085190272492895, f1:0.7379492783305438\n"
     ]
    }
   ],
   "source": [
    "acc, precision, recall, f1 = resn_clf.estimate(y_test=y_test.numpy(), y_pred=prediction)\n",
    "print('acc:{}, precision:{}, recall:{}, f1:{}'.format(acc, precision, recall, f1))"
   ]
  },
  {
   "cell_type": "markdown",
   "id": "sixth-potential",
   "metadata": {},
   "source": [
    "# 调用 utils 绘制混淆矩阵"
   ]
  },
  {
   "cell_type": "code",
   "execution_count": 10,
   "id": "coral-petite",
   "metadata": {},
   "outputs": [
    {
     "name": "stdout",
     "output_type": "stream",
     "text": [
      "Normalized confusion matrix\n"
     ]
    },
    {
     "data": {
      "image/png": "[encoded data removed]",
      "text/plain": [
       "<Figure size 720x720 with 2 Axes>"
      ]
     },
     "metadata": {
      "needs_background": "light"
     },
     "output_type": "display_data"
    }
   ],
   "source": [
    "import matplotlib.pyplot as plt\n",
    "%matplotlib inline\n",
    "\n",
    "from torchSimple.utils import plot_confusion_matrix\n",
    "from sklearn.metrics import confusion_matrix\n",
    "\n",
    "# Compute confusion matrix\n",
    "cnf_matrix = confusion_matrix(y_test.numpy(),\n",
    "                              prediction)\n",
    "np.set_printoptions(precision=2)\n",
    "\n",
    "# Plot non-normalized confusion matrix\n",
    "plt.figure(figsize=(10, 10))\n",
    "plot_confusion_matrix(cnf_matrix, classes=['Ⅰ', 'Ⅱ', 'Ⅲ', 'Ⅳ', 'Ⅴ', 'Ⅴ-'],normalize=True,\n",
    "                      title='./resnet18_model_confusion_matrix.png')\n",
    "plt.show()"
   ]
  },
  {
   "cell_type": "markdown",
   "id": "needed-fisher",
   "metadata": {},
   "source": [
    "# 可考虑是否需要保存整个模型\n",
    "\n",
    "目的是保存自己写的模型，这样后续可直接 load 整个模型及其最优 参数."
   ]
  },
  {
   "cell_type": "code",
   "execution_count": 11,
   "id": "sunrise-aaron",
   "metadata": {},
   "outputs": [],
   "source": [
    "# Specify a path\n",
    "PATH = \"./resnet18_model_weights/entire_resnet18_model.pt\"\n",
    "# Save\n",
    "torch.save(model, PATH)"
   ]
  },
  {
   "cell_type": "code",
   "execution_count": 12,
   "id": "subsequent-litigation",
   "metadata": {},
   "outputs": [],
   "source": [
    "# Load\n",
    "model = torch.load(PATH)"
   ]
  },
  {
   "cell_type": "markdown",
   "id": "leading-words",
   "metadata": {},
   "source": [
    "查看模型是否加载成功"
   ]
  },
  {
   "cell_type": "code",
   "execution_count": 13,
   "id": "widespread-black",
   "metadata": {
    "scrolled": true
   },
   "outputs": [
    {
     "data": {
      "text/plain": [
       "ResNet(\n",
       "  (conv1): Conv2d(1, 64, kernel_size=(7, 7), stride=(2, 2), padding=(3, 3), bias=False)\n",
       "  (bn1): BatchNorm2d(64, eps=1e-05, momentum=0.1, affine=True, track_running_stats=True)\n",
       "  (relu): ReLU(inplace=True)\n",
       "  (maxpool): MaxPool2d(kernel_size=3, stride=2, padding=1, dilation=1, ceil_mode=False)\n",
       "  (layer1): Sequential(\n",
       "    (0): BasicBlock(\n",
       "      (conv1): Conv2d(64, 64, kernel_size=(3, 3), stride=(1, 1), padding=(1, 1), bias=False)\n",
       "      (bn1): BatchNorm2d(64, eps=1e-05, momentum=0.1, affine=True, track_running_stats=True)\n",
       "      (relu): ReLU(inplace=True)\n",
       "      (conv2): Conv2d(64, 64, kernel_size=(3, 3), stride=(1, 1), padding=(1, 1), bias=False)\n",
       "      (bn2): BatchNorm2d(64, eps=1e-05, momentum=0.1, affine=True, track_running_stats=True)\n",
       "    )\n",
       "    (1): BasicBlock(\n",
       "      (conv1): Conv2d(64, 64, kernel_size=(3, 3), stride=(1, 1), padding=(1, 1), bias=False)\n",
       "      (bn1): BatchNorm2d(64, eps=1e-05, momentum=0.1, affine=True, track_running_stats=True)\n",
       "      (relu): ReLU(inplace=True)\n",
       "      (conv2): Conv2d(64, 64, kernel_size=(3, 3), stride=(1, 1), padding=(1, 1), bias=False)\n",
       "      (bn2): BatchNorm2d(64, eps=1e-05, momentum=0.1, affine=True, track_running_stats=True)\n",
       "    )\n",
       "  )\n",
       "  (layer2): Sequential(\n",
       "    (0): BasicBlock(\n",
       "      (conv1): Conv2d(64, 128, kernel_size=(3, 3), stride=(2, 2), padding=(1, 1), bias=False)\n",
       "      (bn1): BatchNorm2d(128, eps=1e-05, momentum=0.1, affine=True, track_running_stats=True)\n",
       "      (relu): ReLU(inplace=True)\n",
       "      (conv2): Conv2d(128, 128, kernel_size=(3, 3), stride=(1, 1), padding=(1, 1), bias=False)\n",
       "      (bn2): BatchNorm2d(128, eps=1e-05, momentum=0.1, affine=True, track_running_stats=True)\n",
       "      (downsample): Sequential(\n",
       "        (0): Conv2d(64, 128, kernel_size=(1, 1), stride=(2, 2), bias=False)\n",
       "        (1): BatchNorm2d(128, eps=1e-05, momentum=0.1, affine=True, track_running_stats=True)\n",
       "      )\n",
       "    )\n",
       "    (1): BasicBlock(\n",
       "      (conv1): Conv2d(128, 128, kernel_size=(3, 3), stride=(1, 1), padding=(1, 1), bias=False)\n",
       "      (bn1): BatchNorm2d(128, eps=1e-05, momentum=0.1, affine=True, track_running_stats=True)\n",
       "      (relu): ReLU(inplace=True)\n",
       "      (conv2): Conv2d(128, 128, kernel_size=(3, 3), stride=(1, 1), padding=(1, 1), bias=False)\n",
       "      (bn2): BatchNorm2d(128, eps=1e-05, momentum=0.1, affine=True, track_running_stats=True)\n",
       "    )\n",
       "  )\n",
       "  (layer3): Sequential(\n",
       "    (0): BasicBlock(\n",
       "      (conv1): Conv2d(128, 256, kernel_size=(3, 3), stride=(2, 2), padding=(1, 1), bias=False)\n",
       "      (bn1): BatchNorm2d(256, eps=1e-05, momentum=0.1, affine=True, track_running_stats=True)\n",
       "      (relu): ReLU(inplace=True)\n",
       "      (conv2): Conv2d(256, 256, kernel_size=(3, 3), stride=(1, 1), padding=(1, 1), bias=False)\n",
       "      (bn2): BatchNorm2d(256, eps=1e-05, momentum=0.1, affine=True, track_running_stats=True)\n",
       "      (downsample): Sequential(\n",
       "        (0): Conv2d(128, 256, kernel_size=(1, 1), stride=(2, 2), bias=False)\n",
       "        (1): BatchNorm2d(256, eps=1e-05, momentum=0.1, affine=True, track_running_stats=True)\n",
       "      )\n",
       "    )\n",
       "    (1): BasicBlock(\n",
       "      (conv1): Conv2d(256, 256, kernel_size=(3, 3), stride=(1, 1), padding=(1, 1), bias=False)\n",
       "      (bn1): BatchNorm2d(256, eps=1e-05, momentum=0.1, affine=True, track_running_stats=True)\n",
       "      (relu): ReLU(inplace=True)\n",
       "      (conv2): Conv2d(256, 256, kernel_size=(3, 3), stride=(1, 1), padding=(1, 1), bias=False)\n",
       "      (bn2): BatchNorm2d(256, eps=1e-05, momentum=0.1, affine=True, track_running_stats=True)\n",
       "    )\n",
       "  )\n",
       "  (layer4): Sequential(\n",
       "    (0): BasicBlock(\n",
       "      (conv1): Conv2d(256, 512, kernel_size=(3, 3), stride=(2, 2), padding=(1, 1), bias=False)\n",
       "      (bn1): BatchNorm2d(512, eps=1e-05, momentum=0.1, affine=True, track_running_stats=True)\n",
       "      (relu): ReLU(inplace=True)\n",
       "      (conv2): Conv2d(512, 512, kernel_size=(3, 3), stride=(1, 1), padding=(1, 1), bias=False)\n",
       "      (bn2): BatchNorm2d(512, eps=1e-05, momentum=0.1, affine=True, track_running_stats=True)\n",
       "      (downsample): Sequential(\n",
       "        (0): Conv2d(256, 512, kernel_size=(1, 1), stride=(2, 2), bias=False)\n",
       "        (1): BatchNorm2d(512, eps=1e-05, momentum=0.1, affine=True, track_running_stats=True)\n",
       "      )\n",
       "    )\n",
       "    (1): BasicBlock(\n",
       "      (conv1): Conv2d(512, 512, kernel_size=(3, 3), stride=(1, 1), padding=(1, 1), bias=False)\n",
       "      (bn1): BatchNorm2d(512, eps=1e-05, momentum=0.1, affine=True, track_running_stats=True)\n",
       "      (relu): ReLU(inplace=True)\n",
       "      (conv2): Conv2d(512, 512, kernel_size=(3, 3), stride=(1, 1), padding=(1, 1), bias=False)\n",
       "      (bn2): BatchNorm2d(512, eps=1e-05, momentum=0.1, affine=True, track_running_stats=True)\n",
       "    )\n",
       "  )\n",
       "  (avgpool): AdaptiveAvgPool2d(output_size=(1, 1))\n",
       "  (fc): Linear(in_features=512, out_features=6, bias=True)\n",
       ")"
      ]
     },
     "execution_count": 13,
     "metadata": {},
     "output_type": "execute_result"
    }
   ],
   "source": [
    "model"
   ]
  },
  {
   "cell_type": "code",
   "execution_count": null,
   "id": "moral-manitoba",
   "metadata": {},
   "outputs": [],
   "source": []
  }
 ],
 "metadata": {
  "kernelspec": {
   "display_name": "Python 3",
   "language": "python",
   "name": "python3"
  },
  "language_info": {
   "codemirror_mode": {
    "name": "ipython",
    "version": 3
   },
   "file_extension": ".py",
   "mimetype": "text/x-python",
   "name": "python",
   "nbconvert_exporter": "python",
   "pygments_lexer": "ipython3",
   "version": "3.7.9"
  },
  "toc": {
   "base_numbering": 1,
   "nav_menu": {},
   "number_sections": true,
   "sideBar": true,
   "skip_h1_title": false,
   "title_cell": "Table of Contents",
   "title_sidebar": "Contents",
   "toc_cell": false,
   "toc_position": {
    "height": "calc(100% - 180px)",
    "left": "10px",
    "top": "150px",
    "width": "336px"
   },
   "toc_section_display": true,
   "toc_window_display": true
  }
 },
 "nbformat": 4,
 "nbformat_minor": 5
}
